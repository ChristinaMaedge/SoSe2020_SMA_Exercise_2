{
 "cells": [
  {
   "cell_type": "code",
   "execution_count": 6,
   "metadata": {},
   "outputs": [],
   "source": [
    "import os\n",
    "import sys\n",
    "from tweepy import API\n",
    "from tweepy import OAuthHandler\n",
    "\n",
    "consumer_key = \"UAS7zJt23fOj4cPoiWFytb0pt\"\n",
    "consumer_secret = \"yKMr5dtIvG8OY0dFVGCDvIHf44IxGBkKvsHZhN0ivDJx95VfY1\"\n",
    "access_token = \"547035595-bBPOPUdPa6tBU0XrRJSCWusZTT3mnvaPzcSPjKWQ\"\n",
    "access_token_secret = \"E8aocBO3lFTMpPY3LDRmdlyDMmL0R8ydNfg23Iio6nnBR\"\n",
    "\n",
    "def get_twitter_auth():\n",
    "    ''' Setup Twitter authentication\n",
    "    \n",
    "    Return: tweety.OAuthHandler object\n",
    "    '''\n",
    "consumer_key = consumer_key\n",
    "consumer_secret = consumer_secret\n",
    "access_token = access_token\n",
    "access_token_secret = access_token_secret\n",
    "    \n",
    "auth = OAuthHandler(consumer_key, consumer_secret)\n",
    "auth.set_access_token(access_token, access_token_secret)\n",
    "\n",
    "def get_twitter_client():\n",
    "    ''' Setup Twitter API Client\n",
    "    \n",
    "    Return: tweepy.API object\n",
    "    '''\n",
    "    auth = get_twitter_auth()\n",
    "    client = API(auth)\n",
    "    return(client)\n",
    "    "
   ]
  },
  {
   "cell_type": "code",
   "execution_count": null,
   "metadata": {},
   "outputs": [],
   "source": []
  },
  {
   "cell_type": "code",
   "execution_count": null,
   "metadata": {},
   "outputs": [],
   "source": []
  }
 ],
 "metadata": {
  "kernelspec": {
   "display_name": "Python 3",
   "language": "python",
   "name": "python3"
  },
  "language_info": {
   "codemirror_mode": {
    "name": "ipython",
    "version": 3
   },
   "file_extension": ".py",
   "mimetype": "text/x-python",
   "name": "python",
   "nbconvert_exporter": "python",
   "pygments_lexer": "ipython3",
   "version": "3.7.4"
  }
 },
 "nbformat": 4,
 "nbformat_minor": 4
}
