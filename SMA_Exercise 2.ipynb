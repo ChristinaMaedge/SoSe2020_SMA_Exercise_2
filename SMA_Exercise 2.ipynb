{
 "cells": [
  {
   "cell_type": "markdown",
   "metadata": {},
   "source": [
    "Exercise No. 2 - Social Media Analytics "
   ]
  },
  {
   "cell_type": "markdown",
   "metadata": {},
   "source": [
    "5) Select the most recent tweet (only one tweet object) from each Company. Based on that tweet object retrieve the number of favorites, the number of replies and the number of retweets for each tweet. Print the results as JSON. Discuss which Company has the highest count of favorites, replies and retweets for that recent tweet. "
   ]
  },
  {
   "cell_type": "code",
   "execution_count": 1,
   "metadata": {},
   "outputs": [],
   "source": [
    "import tweepy\n",
    "import io\n",
    "import sys\n",
    "import json"
   ]
  },
  {
   "cell_type": "code",
   "execution_count": 2,
   "metadata": {},
   "outputs": [],
   "source": [
    "# Add credentials\n",
    "twitter_keys = {\n",
    "    'consumer_key': 'UAS7zJt23fOj4cPoiWFytb0pt',\n",
    "    'consumer_secret': 'yKMr5dtIvG8OY0dFVGCDvIHf44IxGBkKvsHZhN0ivDJx95VfY1',\n",
    "    'access_token_key': '547035595-bBPOPUdPa6tBU0XrRJSCWusZTT3mnvaPzcSPjKWQ',\n",
    "    'access_token_secret': 'E8aocBO3lFTMpPY3LDRmdlyDMmL0R8ydNfg23Iio6nnBR'\n",
    "}"
   ]
  },
  {
   "cell_type": "code",
   "execution_count": 3,
   "metadata": {},
   "outputs": [],
   "source": [
    "#Setup access to API\n",
    "auth = tweepy.OAuthHandler(twitter_keys['consumer_key'], twitter_keys['consumer_secret'])\n",
    "auth.set_access_token(twitter_keys['access_token_key'], twitter_keys['access_token_secret'])"
   ]
  },
  {
   "cell_type": "code",
   "execution_count": 4,
   "metadata": {},
   "outputs": [],
   "source": [
    "api = tweepy.API(auth)"
   ]
  },
  {
   "cell_type": "code",
   "execution_count": 5,
   "metadata": {},
   "outputs": [
    {
     "name": "stdout",
     "output_type": "stream",
     "text": [
      "@WertesFraeulein @Mya_DeVille @DrOetkerDE Mist. Wir hätten die 5 noch mitnehmen sollen.\n",
      "@lieferando Nun...was sollen wir darauf entgegnen? Es waren harte Zeiten, das Klopapier war knapp.\n",
      "@DHeuwer @CyberpunkGame @fabiandoehla Schlecht. Für dich.\n",
      "@JustPlaysDE @lieferando Spiegel.\n",
      "@Neusser @DrOetkerDE Warum so traurig?\n",
      "@Elaventi @an_dy_wand @DrOetkerDE Wir wissen es.\n",
      "@zwergpfirsich @DrOetkerDE \"Wo ist die mittlere Schiene?\" \"Meine Pizza sieht komisch aus.\" \"Wo kommen die kleinen Salamis her?\" Sowas halt.\n",
      "@Mya_DeVille @DrOetkerDE Nein.\n",
      "@redbullGER @DrOetkerDE Nur eine Woche, Bruder.\n",
      "@Olli1972 @CyberpunkGame @fabiandoehla Andreas.\n",
      "@Coladewe @CyberpunkGame @fabiandoehla Ja.\n",
      "Für Rückfragen zum Fischstäbchenpizza-Rezept könnt ihr euch an unseren Käpt'n Stully @an_dy_wand wenden.\n",
      "@an_dy_wand @Elaventi @DrOetkerDE Haben kurz drüber nachgedacht. Dann geisteskrank gelacht.\n",
      "@an_dy_wand @J0hnny_xiii @DrOetkerDE ACHTUNG, DIES IST EINE FALLE. Hört nicht auf ihn, Freunde.\n",
      "@tostspender @DrOetkerDE Dich werden wir besonders vermissen, Miles.\n",
      "Für Fragen zur @CyberpunkGame Quest und alles rund um das Thema Ananas auf Pizza steht euch @fabiandoehla liebend g… https://t.co/ZfDVdCOxui\n",
      "Abwesenheitstweet: Auch ein Social Media Manager braucht mal Pause. Übernächste Woche werdet ihr wieder an gewohnte… https://t.co/XtorPw8mc3\n",
      "@an_dy_wand @lieferando Wirst du dann ja sehen.\n",
      "@an_dy_wand @lieferando Wenn du in die Dr. Oetker Welt kommst, Andreas...DANN gibt es Pizza auf unseren Nacken.\n",
      "@lieferando Sind die Gutscheine aus?\n"
     ]
    }
   ],
   "source": [
    "user = api.get_user('@DrOetkerPizzaDE')\n",
    "\n",
    "public_tweets = api.user_timeline('@DrOetkerPizzaDE')\n",
    "for tweet in public_tweets:\n",
    "    print(tweet.text)"
   ]
  },
  {
   "cell_type": "markdown",
   "metadata": {},
   "source": [
    "To view the json associated with the first tweet type and execute public_tweets[0] :"
   ]
  },
  {
   "cell_type": "code",
   "execution_count": null,
   "metadata": {},
   "outputs": [],
   "source": []
  },
  {
   "cell_type": "code",
   "execution_count": 8,
   "metadata": {},
   "outputs": [
    {
     "data": {
      "text/plain": [
       "Status(_api=<tweepy.api.API object at 0x0000001949438FC8>, _json={'created_at': 'Fri May 22 10:15:03 +0000 2020', 'id': 1263775373990539264, 'id_str': '1263775373990539264', 'text': '@WertesFraeulein @Mya_DeVille @DrOetkerDE Mist. Wir hätten die 5 noch mitnehmen sollen.', 'truncated': False, 'entities': {'hashtags': [], 'symbols': [], 'user_mentions': [{'screen_name': 'WertesFraeulein', 'name': 'Rotkäppchengirl 🍾 (🏛)', 'id': 1064822554018361344, 'id_str': '1064822554018361344', 'indices': [0, 16]}, {'screen_name': 'Mya_DeVille', 'name': '𝒟𝒾𝑒 𝑒𝒾𝓃𝑒, 𝒹𝒾𝑒 𝒾𝓂𝓂𝑒𝓇 𝒻𝓇𝒾𝓈𝓈𝓉 💼', 'id': 190601769, 'id_str': '190601769', 'indices': [17, 29]}, {'screen_name': 'DrOetkerDE', 'name': 'Dr. Oetker DE', 'id': 50674044, 'id_str': '50674044', 'indices': [30, 41]}], 'urls': []}, 'source': '<a href=\"https://mobile.twitter.com\" rel=\"nofollow\">Twitter Web App</a>', 'in_reply_to_status_id': 1263770620367642627, 'in_reply_to_status_id_str': '1263770620367642627', 'in_reply_to_user_id': 1064822554018361344, 'in_reply_to_user_id_str': '1064822554018361344', 'in_reply_to_screen_name': 'WertesFraeulein', 'user': {'id': 3342509673, 'id_str': '3342509673', 'name': 'Dr. Oetker Pizza DE', 'screen_name': 'DrOetkerPizzaDE', 'location': '', 'description': 'Willkommen bei der weltbesten deutschsprachigen Dr. Oetker Tiefkühlpizza...auf Twitter. \\nImpressum: https://t.co/qfx14N4XxU', 'url': 'http://t.co/K7fefXK70e', 'entities': {'url': {'urls': [{'url': 'http://t.co/K7fefXK70e', 'expanded_url': 'http://www.oetker.de', 'display_url': 'oetker.de', 'indices': [0, 22]}]}, 'description': {'urls': [{'url': 'https://t.co/qfx14N4XxU', 'expanded_url': 'http://dr.oetker.de/Impressum', 'display_url': 'dr.oetker.de/Impressum', 'indices': [100, 123]}]}}, 'protected': False, 'followers_count': 29010, 'friends_count': 144, 'listed_count': 28, 'created_at': 'Tue Jun 23 10:57:56 +0000 2015', 'favourites_count': 18152, 'utc_offset': None, 'time_zone': None, 'geo_enabled': True, 'verified': True, 'statuses_count': 6994, 'lang': None, 'contributors_enabled': False, 'is_translator': False, 'is_translation_enabled': False, 'profile_background_color': 'C0DEED', 'profile_background_image_url': 'http://abs.twimg.com/images/themes/theme1/bg.png', 'profile_background_image_url_https': 'https://abs.twimg.com/images/themes/theme1/bg.png', 'profile_background_tile': False, 'profile_image_url': 'http://pbs.twimg.com/profile_images/613302468223504388/5CHlz0L0_normal.jpg', 'profile_image_url_https': 'https://pbs.twimg.com/profile_images/613302468223504388/5CHlz0L0_normal.jpg', 'profile_banner_url': 'https://pbs.twimg.com/profile_banners/3342509673/1548318471', 'profile_link_color': '1DA1F2', 'profile_sidebar_border_color': 'C0DEED', 'profile_sidebar_fill_color': 'DDEEF6', 'profile_text_color': '333333', 'profile_use_background_image': True, 'has_extended_profile': False, 'default_profile': True, 'default_profile_image': False, 'following': True, 'follow_request_sent': False, 'notifications': False, 'translator_type': 'none'}, 'geo': None, 'coordinates': None, 'place': None, 'contributors': None, 'is_quote_status': False, 'retweet_count': 0, 'favorite_count': 85, 'favorited': False, 'retweeted': False, 'lang': 'de'}, created_at=datetime.datetime(2020, 5, 22, 10, 15, 3), id=1263775373990539264, id_str='1263775373990539264', text='@WertesFraeulein @Mya_DeVille @DrOetkerDE Mist. Wir hätten die 5 noch mitnehmen sollen.', truncated=False, entities={'hashtags': [], 'symbols': [], 'user_mentions': [{'screen_name': 'WertesFraeulein', 'name': 'Rotkäppchengirl 🍾 (🏛)', 'id': 1064822554018361344, 'id_str': '1064822554018361344', 'indices': [0, 16]}, {'screen_name': 'Mya_DeVille', 'name': '𝒟𝒾𝑒 𝑒𝒾𝓃𝑒, 𝒹𝒾𝑒 𝒾𝓂𝓂𝑒𝓇 𝒻𝓇𝒾𝓈𝓈𝓉 💼', 'id': 190601769, 'id_str': '190601769', 'indices': [17, 29]}, {'screen_name': 'DrOetkerDE', 'name': 'Dr. Oetker DE', 'id': 50674044, 'id_str': '50674044', 'indices': [30, 41]}], 'urls': []}, source='Twitter Web App', source_url='https://mobile.twitter.com', in_reply_to_status_id=1263770620367642627, in_reply_to_status_id_str='1263770620367642627', in_reply_to_user_id=1064822554018361344, in_reply_to_user_id_str='1064822554018361344', in_reply_to_screen_name='WertesFraeulein', author=User(_api=<tweepy.api.API object at 0x0000001949438FC8>, _json={'id': 3342509673, 'id_str': '3342509673', 'name': 'Dr. Oetker Pizza DE', 'screen_name': 'DrOetkerPizzaDE', 'location': '', 'description': 'Willkommen bei der weltbesten deutschsprachigen Dr. Oetker Tiefkühlpizza...auf Twitter. \\nImpressum: https://t.co/qfx14N4XxU', 'url': 'http://t.co/K7fefXK70e', 'entities': {'url': {'urls': [{'url': 'http://t.co/K7fefXK70e', 'expanded_url': 'http://www.oetker.de', 'display_url': 'oetker.de', 'indices': [0, 22]}]}, 'description': {'urls': [{'url': 'https://t.co/qfx14N4XxU', 'expanded_url': 'http://dr.oetker.de/Impressum', 'display_url': 'dr.oetker.de/Impressum', 'indices': [100, 123]}]}}, 'protected': False, 'followers_count': 29010, 'friends_count': 144, 'listed_count': 28, 'created_at': 'Tue Jun 23 10:57:56 +0000 2015', 'favourites_count': 18152, 'utc_offset': None, 'time_zone': None, 'geo_enabled': True, 'verified': True, 'statuses_count': 6994, 'lang': None, 'contributors_enabled': False, 'is_translator': False, 'is_translation_enabled': False, 'profile_background_color': 'C0DEED', 'profile_background_image_url': 'http://abs.twimg.com/images/themes/theme1/bg.png', 'profile_background_image_url_https': 'https://abs.twimg.com/images/themes/theme1/bg.png', 'profile_background_tile': False, 'profile_image_url': 'http://pbs.twimg.com/profile_images/613302468223504388/5CHlz0L0_normal.jpg', 'profile_image_url_https': 'https://pbs.twimg.com/profile_images/613302468223504388/5CHlz0L0_normal.jpg', 'profile_banner_url': 'https://pbs.twimg.com/profile_banners/3342509673/1548318471', 'profile_link_color': '1DA1F2', 'profile_sidebar_border_color': 'C0DEED', 'profile_sidebar_fill_color': 'DDEEF6', 'profile_text_color': '333333', 'profile_use_background_image': True, 'has_extended_profile': False, 'default_profile': True, 'default_profile_image': False, 'following': True, 'follow_request_sent': False, 'notifications': False, 'translator_type': 'none'}, id=3342509673, id_str='3342509673', name='Dr. Oetker Pizza DE', screen_name='DrOetkerPizzaDE', location='', description='Willkommen bei der weltbesten deutschsprachigen Dr. Oetker Tiefkühlpizza...auf Twitter. \\nImpressum: https://t.co/qfx14N4XxU', url='http://t.co/K7fefXK70e', entities={'url': {'urls': [{'url': 'http://t.co/K7fefXK70e', 'expanded_url': 'http://www.oetker.de', 'display_url': 'oetker.de', 'indices': [0, 22]}]}, 'description': {'urls': [{'url': 'https://t.co/qfx14N4XxU', 'expanded_url': 'http://dr.oetker.de/Impressum', 'display_url': 'dr.oetker.de/Impressum', 'indices': [100, 123]}]}}, protected=False, followers_count=29010, friends_count=144, listed_count=28, created_at=datetime.datetime(2015, 6, 23, 10, 57, 56), favourites_count=18152, utc_offset=None, time_zone=None, geo_enabled=True, verified=True, statuses_count=6994, lang=None, contributors_enabled=False, is_translator=False, is_translation_enabled=False, profile_background_color='C0DEED', profile_background_image_url='http://abs.twimg.com/images/themes/theme1/bg.png', profile_background_image_url_https='https://abs.twimg.com/images/themes/theme1/bg.png', profile_background_tile=False, profile_image_url='http://pbs.twimg.com/profile_images/613302468223504388/5CHlz0L0_normal.jpg', profile_image_url_https='https://pbs.twimg.com/profile_images/613302468223504388/5CHlz0L0_normal.jpg', profile_banner_url='https://pbs.twimg.com/profile_banners/3342509673/1548318471', profile_link_color='1DA1F2', profile_sidebar_border_color='C0DEED', profile_sidebar_fill_color='DDEEF6', profile_text_color='333333', profile_use_background_image=True, has_extended_profile=False, default_profile=True, default_profile_image=False, following=True, follow_request_sent=False, notifications=False, translator_type='none'), user=User(_api=<tweepy.api.API object at 0x0000001949438FC8>, _json={'id': 3342509673, 'id_str': '3342509673', 'name': 'Dr. Oetker Pizza DE', 'screen_name': 'DrOetkerPizzaDE', 'location': '', 'description': 'Willkommen bei der weltbesten deutschsprachigen Dr. Oetker Tiefkühlpizza...auf Twitter. \\nImpressum: https://t.co/qfx14N4XxU', 'url': 'http://t.co/K7fefXK70e', 'entities': {'url': {'urls': [{'url': 'http://t.co/K7fefXK70e', 'expanded_url': 'http://www.oetker.de', 'display_url': 'oetker.de', 'indices': [0, 22]}]}, 'description': {'urls': [{'url': 'https://t.co/qfx14N4XxU', 'expanded_url': 'http://dr.oetker.de/Impressum', 'display_url': 'dr.oetker.de/Impressum', 'indices': [100, 123]}]}}, 'protected': False, 'followers_count': 29010, 'friends_count': 144, 'listed_count': 28, 'created_at': 'Tue Jun 23 10:57:56 +0000 2015', 'favourites_count': 18152, 'utc_offset': None, 'time_zone': None, 'geo_enabled': True, 'verified': True, 'statuses_count': 6994, 'lang': None, 'contributors_enabled': False, 'is_translator': False, 'is_translation_enabled': False, 'profile_background_color': 'C0DEED', 'profile_background_image_url': 'http://abs.twimg.com/images/themes/theme1/bg.png', 'profile_background_image_url_https': 'https://abs.twimg.com/images/themes/theme1/bg.png', 'profile_background_tile': False, 'profile_image_url': 'http://pbs.twimg.com/profile_images/613302468223504388/5CHlz0L0_normal.jpg', 'profile_image_url_https': 'https://pbs.twimg.com/profile_images/613302468223504388/5CHlz0L0_normal.jpg', 'profile_banner_url': 'https://pbs.twimg.com/profile_banners/3342509673/1548318471', 'profile_link_color': '1DA1F2', 'profile_sidebar_border_color': 'C0DEED', 'profile_sidebar_fill_color': 'DDEEF6', 'profile_text_color': '333333', 'profile_use_background_image': True, 'has_extended_profile': False, 'default_profile': True, 'default_profile_image': False, 'following': True, 'follow_request_sent': False, 'notifications': False, 'translator_type': 'none'}, id=3342509673, id_str='3342509673', name='Dr. Oetker Pizza DE', screen_name='DrOetkerPizzaDE', location='', description='Willkommen bei der weltbesten deutschsprachigen Dr. Oetker Tiefkühlpizza...auf Twitter. \\nImpressum: https://t.co/qfx14N4XxU', url='http://t.co/K7fefXK70e', entities={'url': {'urls': [{'url': 'http://t.co/K7fefXK70e', 'expanded_url': 'http://www.oetker.de', 'display_url': 'oetker.de', 'indices': [0, 22]}]}, 'description': {'urls': [{'url': 'https://t.co/qfx14N4XxU', 'expanded_url': 'http://dr.oetker.de/Impressum', 'display_url': 'dr.oetker.de/Impressum', 'indices': [100, 123]}]}}, protected=False, followers_count=29010, friends_count=144, listed_count=28, created_at=datetime.datetime(2015, 6, 23, 10, 57, 56), favourites_count=18152, utc_offset=None, time_zone=None, geo_enabled=True, verified=True, statuses_count=6994, lang=None, contributors_enabled=False, is_translator=False, is_translation_enabled=False, profile_background_color='C0DEED', profile_background_image_url='http://abs.twimg.com/images/themes/theme1/bg.png', profile_background_image_url_https='https://abs.twimg.com/images/themes/theme1/bg.png', profile_background_tile=False, profile_image_url='http://pbs.twimg.com/profile_images/613302468223504388/5CHlz0L0_normal.jpg', profile_image_url_https='https://pbs.twimg.com/profile_images/613302468223504388/5CHlz0L0_normal.jpg', profile_banner_url='https://pbs.twimg.com/profile_banners/3342509673/1548318471', profile_link_color='1DA1F2', profile_sidebar_border_color='C0DEED', profile_sidebar_fill_color='DDEEF6', profile_text_color='333333', profile_use_background_image=True, has_extended_profile=False, default_profile=True, default_profile_image=False, following=True, follow_request_sent=False, notifications=False, translator_type='none'), geo=None, coordinates=None, place=None, contributors=None, is_quote_status=False, retweet_count=0, favorite_count=85, favorited=False, retweeted=False, lang='de')"
      ]
     },
     "execution_count": 8,
     "metadata": {},
     "output_type": "execute_result"
    }
   ],
   "source": [
    "public_tweets[0]"
   ]
  },
  {
   "cell_type": "code",
   "execution_count": null,
   "metadata": {},
   "outputs": [],
   "source": []
  },
  {
   "cell_type": "code",
   "execution_count": null,
   "metadata": {},
   "outputs": [],
   "source": []
  },
  {
   "cell_type": "code",
   "execution_count": null,
   "metadata": {},
   "outputs": [],
   "source": []
  },
  {
   "cell_type": "code",
   "execution_count": null,
   "metadata": {},
   "outputs": [],
   "source": []
  },
  {
   "cell_type": "code",
   "execution_count": 9,
   "metadata": {},
   "outputs": [
    {
     "ename": "TypeError",
     "evalue": "list indices must be integers or slices, not str",
     "output_type": "error",
     "traceback": [
      "\u001b[1;31m---------------------------------------------------------------------------\u001b[0m",
      "\u001b[1;31mTypeError\u001b[0m                                 Traceback (most recent call last)",
      "\u001b[1;32m<ipython-input-9-472bde21fd5c>\u001b[0m in \u001b[0;36m<module>\u001b[1;34m\u001b[0m\n\u001b[1;32m----> 1\u001b[1;33m \u001b[0mpublic_tweets\u001b[0m\u001b[1;33m[\u001b[0m\u001b[1;34m'statuses'\u001b[0m\u001b[1;33m]\u001b[0m\u001b[1;33m[\u001b[0m\u001b[1;36m0\u001b[0m\u001b[1;33m]\u001b[0m\u001b[1;33m[\u001b[0m\u001b[0mfavourites_count\u001b[0m\u001b[1;33m]\u001b[0m\u001b[1;33m\u001b[0m\u001b[1;33m\u001b[0m\u001b[0m\n\u001b[0m",
      "\u001b[1;31mTypeError\u001b[0m: list indices must be integers or slices, not str"
     ]
    }
   ],
   "source": [
    "public_tweets['statuses'][0][favourites_count]"
   ]
  },
  {
   "cell_type": "code",
   "execution_count": null,
   "metadata": {},
   "outputs": [],
   "source": []
  }
 ],
 "metadata": {
  "kernelspec": {
   "display_name": "Python 3",
   "language": "python",
   "name": "python3"
  },
  "language_info": {
   "codemirror_mode": {
    "name": "ipython",
    "version": 3
   },
   "file_extension": ".py",
   "mimetype": "text/x-python",
   "name": "python",
   "nbconvert_exporter": "python",
   "pygments_lexer": "ipython3",
   "version": "3.7.4"
  }
 },
 "nbformat": 4,
 "nbformat_minor": 4
}
